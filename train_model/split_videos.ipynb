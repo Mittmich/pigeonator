{
 "cells": [
  {
   "cell_type": "code",
   "execution_count": 1,
   "metadata": {},
   "outputs": [],
   "source": [
    "import cv2\n",
    "import os\n",
    "import glob"
   ]
  },
  {
   "attachments": {},
   "cell_type": "markdown",
   "metadata": {},
   "source": [
    "# List candidate videos"
   ]
  },
  {
   "cell_type": "code",
   "execution_count": 2,
   "metadata": {},
   "outputs": [],
   "source": [
    "videos = glob.glob(r'C:\\Users\\michael.mitter\\Documents\\Programming\\thepigeoniator\\train_model\\raw_data\\new_recordings\\*.avi')"
   ]
  },
  {
   "cell_type": "code",
   "execution_count": 3,
   "metadata": {},
   "outputs": [
    {
     "data": {
      "text/plain": [
       "['C:\\\\Users\\\\michael.mitter\\\\Documents\\\\Programming\\\\thepigeoniator\\\\train_model\\\\raw_data\\\\new_recordings\\\\20230705_102828.avi',\n",
       " 'C:\\\\Users\\\\michael.mitter\\\\Documents\\\\Programming\\\\thepigeoniator\\\\train_model\\\\raw_data\\\\new_recordings\\\\20230911_224110.avi',\n",
       " 'C:\\\\Users\\\\michael.mitter\\\\Documents\\\\Programming\\\\thepigeoniator\\\\train_model\\\\raw_data\\\\new_recordings\\\\20230911_224457.avi',\n",
       " 'C:\\\\Users\\\\michael.mitter\\\\Documents\\\\Programming\\\\thepigeoniator\\\\train_model\\\\raw_data\\\\new_recordings\\\\20230912_175927.avi',\n",
       " 'C:\\\\Users\\\\michael.mitter\\\\Documents\\\\Programming\\\\thepigeoniator\\\\train_model\\\\raw_data\\\\new_recordings\\\\20230915_103714.avi',\n",
       " 'C:\\\\Users\\\\michael.mitter\\\\Documents\\\\Programming\\\\thepigeoniator\\\\train_model\\\\raw_data\\\\new_recordings\\\\20230915_143323.avi',\n",
       " 'C:\\\\Users\\\\michael.mitter\\\\Documents\\\\Programming\\\\thepigeoniator\\\\train_model\\\\raw_data\\\\new_recordings\\\\20230925_174905.avi',\n",
       " 'C:\\\\Users\\\\michael.mitter\\\\Documents\\\\Programming\\\\thepigeoniator\\\\train_model\\\\raw_data\\\\new_recordings\\\\20230928_121148.avi',\n",
       " 'C:\\\\Users\\\\michael.mitter\\\\Documents\\\\Programming\\\\thepigeoniator\\\\train_model\\\\raw_data\\\\new_recordings\\\\20230928_122515.avi',\n",
       " 'C:\\\\Users\\\\michael.mitter\\\\Documents\\\\Programming\\\\thepigeoniator\\\\train_model\\\\raw_data\\\\new_recordings\\\\20230929_172711.avi',\n",
       " 'C:\\\\Users\\\\michael.mitter\\\\Documents\\\\Programming\\\\thepigeoniator\\\\train_model\\\\raw_data\\\\new_recordings\\\\20230929_173026.avi',\n",
       " 'C:\\\\Users\\\\michael.mitter\\\\Documents\\\\Programming\\\\thepigeoniator\\\\train_model\\\\raw_data\\\\new_recordings\\\\20231003_145215.avi',\n",
       " 'C:\\\\Users\\\\michael.mitter\\\\Documents\\\\Programming\\\\thepigeoniator\\\\train_model\\\\raw_data\\\\new_recordings\\\\20231005_105705.avi',\n",
       " 'C:\\\\Users\\\\michael.mitter\\\\Documents\\\\Programming\\\\thepigeoniator\\\\train_model\\\\raw_data\\\\new_recordings\\\\20231005_113840.avi',\n",
       " 'C:\\\\Users\\\\michael.mitter\\\\Documents\\\\Programming\\\\thepigeoniator\\\\train_model\\\\raw_data\\\\new_recordings\\\\20231005_121225.avi',\n",
       " 'C:\\\\Users\\\\michael.mitter\\\\Documents\\\\Programming\\\\thepigeoniator\\\\train_model\\\\raw_data\\\\new_recordings\\\\20231009_165322.avi',\n",
       " 'C:\\\\Users\\\\michael.mitter\\\\Documents\\\\Programming\\\\thepigeoniator\\\\train_model\\\\raw_data\\\\new_recordings\\\\20231011_151044.avi',\n",
       " 'C:\\\\Users\\\\michael.mitter\\\\Documents\\\\Programming\\\\thepigeoniator\\\\train_model\\\\raw_data\\\\new_recordings\\\\20240102_104607.avi',\n",
       " 'C:\\\\Users\\\\michael.mitter\\\\Documents\\\\Programming\\\\thepigeoniator\\\\train_model\\\\raw_data\\\\new_recordings\\\\20240102_104737.avi',\n",
       " 'C:\\\\Users\\\\michael.mitter\\\\Documents\\\\Programming\\\\thepigeoniator\\\\train_model\\\\raw_data\\\\new_recordings\\\\20240102_104841.avi',\n",
       " 'C:\\\\Users\\\\michael.mitter\\\\Documents\\\\Programming\\\\thepigeoniator\\\\train_model\\\\raw_data\\\\new_recordings\\\\20240102_110359.avi',\n",
       " 'C:\\\\Users\\\\michael.mitter\\\\Documents\\\\Programming\\\\thepigeoniator\\\\train_model\\\\raw_data\\\\new_recordings\\\\20240102_112822.avi',\n",
       " 'C:\\\\Users\\\\michael.mitter\\\\Documents\\\\Programming\\\\thepigeoniator\\\\train_model\\\\raw_data\\\\new_recordings\\\\20240102_121711.avi',\n",
       " 'C:\\\\Users\\\\michael.mitter\\\\Documents\\\\Programming\\\\thepigeoniator\\\\train_model\\\\raw_data\\\\new_recordings\\\\20240102_122337.avi',\n",
       " 'C:\\\\Users\\\\michael.mitter\\\\Documents\\\\Programming\\\\thepigeoniator\\\\train_model\\\\raw_data\\\\new_recordings\\\\20240102_125701.avi',\n",
       " 'C:\\\\Users\\\\michael.mitter\\\\Documents\\\\Programming\\\\thepigeoniator\\\\train_model\\\\raw_data\\\\new_recordings\\\\20240102_131928.avi',\n",
       " 'C:\\\\Users\\\\michael.mitter\\\\Documents\\\\Programming\\\\thepigeoniator\\\\train_model\\\\raw_data\\\\new_recordings\\\\20240102_142632.avi',\n",
       " 'C:\\\\Users\\\\michael.mitter\\\\Documents\\\\Programming\\\\thepigeoniator\\\\train_model\\\\raw_data\\\\new_recordings\\\\20240102_150118.avi',\n",
       " 'C:\\\\Users\\\\michael.mitter\\\\Documents\\\\Programming\\\\thepigeoniator\\\\train_model\\\\raw_data\\\\new_recordings\\\\20240102_151119.avi',\n",
       " 'C:\\\\Users\\\\michael.mitter\\\\Documents\\\\Programming\\\\thepigeoniator\\\\train_model\\\\raw_data\\\\new_recordings\\\\20240102_154351.avi',\n",
       " 'C:\\\\Users\\\\michael.mitter\\\\Documents\\\\Programming\\\\thepigeoniator\\\\train_model\\\\raw_data\\\\new_recordings\\\\20240128_120204.avi',\n",
       " 'C:\\\\Users\\\\michael.mitter\\\\Documents\\\\Programming\\\\thepigeoniator\\\\train_model\\\\raw_data\\\\new_recordings\\\\20240606_115451.avi',\n",
       " 'C:\\\\Users\\\\michael.mitter\\\\Documents\\\\Programming\\\\thepigeoniator\\\\train_model\\\\raw_data\\\\new_recordings\\\\20240606_115558.avi',\n",
       " 'C:\\\\Users\\\\michael.mitter\\\\Documents\\\\Programming\\\\thepigeoniator\\\\train_model\\\\raw_data\\\\new_recordings\\\\20240611_141122.avi',\n",
       " 'C:\\\\Users\\\\michael.mitter\\\\Documents\\\\Programming\\\\thepigeoniator\\\\train_model\\\\raw_data\\\\new_recordings\\\\20240611_200347.avi',\n",
       " 'C:\\\\Users\\\\michael.mitter\\\\Documents\\\\Programming\\\\thepigeoniator\\\\train_model\\\\raw_data\\\\new_recordings\\\\20240612_103809.avi',\n",
       " 'C:\\\\Users\\\\michael.mitter\\\\Documents\\\\Programming\\\\thepigeoniator\\\\train_model\\\\raw_data\\\\new_recordings\\\\20240612_110951.avi',\n",
       " 'C:\\\\Users\\\\michael.mitter\\\\Documents\\\\Programming\\\\thepigeoniator\\\\train_model\\\\raw_data\\\\new_recordings\\\\20240612_123905.avi',\n",
       " 'C:\\\\Users\\\\michael.mitter\\\\Documents\\\\Programming\\\\thepigeoniator\\\\train_model\\\\raw_data\\\\new_recordings\\\\20240612_135015.avi',\n",
       " 'C:\\\\Users\\\\michael.mitter\\\\Documents\\\\Programming\\\\thepigeoniator\\\\train_model\\\\raw_data\\\\new_recordings\\\\20240612_142229.avi',\n",
       " 'C:\\\\Users\\\\michael.mitter\\\\Documents\\\\Programming\\\\thepigeoniator\\\\train_model\\\\raw_data\\\\new_recordings\\\\20240612_160026.avi',\n",
       " 'C:\\\\Users\\\\michael.mitter\\\\Documents\\\\Programming\\\\thepigeoniator\\\\train_model\\\\raw_data\\\\new_recordings\\\\20240612_211626.avi',\n",
       " 'C:\\\\Users\\\\michael.mitter\\\\Documents\\\\Programming\\\\thepigeoniator\\\\train_model\\\\raw_data\\\\new_recordings\\\\20240613_084127.avi',\n",
       " 'C:\\\\Users\\\\michael.mitter\\\\Documents\\\\Programming\\\\thepigeoniator\\\\train_model\\\\raw_data\\\\new_recordings\\\\20240613_100420.avi',\n",
       " 'C:\\\\Users\\\\michael.mitter\\\\Documents\\\\Programming\\\\thepigeoniator\\\\train_model\\\\raw_data\\\\new_recordings\\\\20240613_143302.avi',\n",
       " 'C:\\\\Users\\\\michael.mitter\\\\Documents\\\\Programming\\\\thepigeoniator\\\\train_model\\\\raw_data\\\\new_recordings\\\\20240613_150044.avi',\n",
       " 'C:\\\\Users\\\\michael.mitter\\\\Documents\\\\Programming\\\\thepigeoniator\\\\train_model\\\\raw_data\\\\new_recordings\\\\20240613_153351.avi',\n",
       " 'C:\\\\Users\\\\michael.mitter\\\\Documents\\\\Programming\\\\thepigeoniator\\\\train_model\\\\raw_data\\\\new_recordings\\\\20240613_172815.avi',\n",
       " 'C:\\\\Users\\\\michael.mitter\\\\Documents\\\\Programming\\\\thepigeoniator\\\\train_model\\\\raw_data\\\\new_recordings\\\\20240613_184655.avi',\n",
       " 'C:\\\\Users\\\\michael.mitter\\\\Documents\\\\Programming\\\\thepigeoniator\\\\train_model\\\\raw_data\\\\new_recordings\\\\20240613_212501.avi',\n",
       " 'C:\\\\Users\\\\michael.mitter\\\\Documents\\\\Programming\\\\thepigeoniator\\\\train_model\\\\raw_data\\\\new_recordings\\\\20240613_212642.avi']"
      ]
     },
     "execution_count": 3,
     "metadata": {},
     "output_type": "execute_result"
    }
   ],
   "source": [
    "videos"
   ]
  },
  {
   "attachments": {},
   "cell_type": "markdown",
   "metadata": {},
   "source": [
    "# Split all the videos!"
   ]
  },
  {
   "cell_type": "code",
   "execution_count": 4,
   "metadata": {},
   "outputs": [],
   "source": [
    "def split_video(path, output_dir, sample_rate=10):\n",
    "    cap = cv2.VideoCapture(path)\n",
    "    frame_count = int(cap.get(cv2.CAP_PROP_FRAME_COUNT))\n",
    "    print(frame_count)\n",
    "    sample_every = sample_rate\n",
    "    for i in range(frame_count):\n",
    "        ret, frame = cap.read()\n",
    "        # consruct filename. output_dir + video_name + frame_number (without video extension)\n",
    "        filename = os.path.join(output_dir, os.path.basename(path).split('.')[0] + f'_{i}.jpg')\n",
    "        if i % sample_every == 0:\n",
    "            cv2.imwrite(filename, frame)"
   ]
  },
  {
   "cell_type": "code",
   "execution_count": 5,
   "metadata": {},
   "outputs": [],
   "source": [
    "outputdir = r'C:\\Users\\michael.mitter\\Documents\\Programming\\thepigeoniator\\train_model\\raw_data\\new_recordings\\split_pics'"
   ]
  },
  {
   "cell_type": "code",
   "execution_count": 6,
   "metadata": {},
   "outputs": [
    {
     "name": "stdout",
     "output_type": "stream",
     "text": [
      "422\n",
      "371\n",
      "715\n",
      "220\n",
      "220\n",
      "220\n",
      "416\n",
      "412\n",
      "316\n",
      "275\n",
      "233\n",
      "340\n",
      "235\n",
      "276\n",
      "256\n",
      "490\n",
      "655\n",
      "247\n",
      "297\n",
      "1025\n",
      "235\n",
      "220\n",
      "424\n",
      "737\n",
      "338\n",
      "382\n",
      "324\n",
      "316\n",
      "483\n",
      "352\n",
      "203\n",
      "228\n",
      "286\n",
      "220\n",
      "220\n",
      "220\n",
      "220\n",
      "220\n",
      "220\n",
      "462\n",
      "220\n",
      "220\n",
      "220\n",
      "418\n",
      "220\n",
      "220\n",
      "220\n",
      "220\n",
      "220\n",
      "261\n",
      "836\n"
     ]
    }
   ],
   "source": [
    "for vid in videos:\n",
    "    split_video(vid, output_dir=outputdir, sample_rate=20)"
   ]
  }
 ],
 "metadata": {
  "kernelspec": {
   "display_name": "pigeon-train",
   "language": "python",
   "name": "python3"
  },
  "language_info": {
   "codemirror_mode": {
    "name": "ipython",
    "version": 3
   },
   "file_extension": ".py",
   "mimetype": "text/x-python",
   "name": "python",
   "nbconvert_exporter": "python",
   "pygments_lexer": "ipython3",
   "version": "3.8.0"
  },
  "orig_nbformat": 4
 },
 "nbformat": 4,
 "nbformat_minor": 2
}
