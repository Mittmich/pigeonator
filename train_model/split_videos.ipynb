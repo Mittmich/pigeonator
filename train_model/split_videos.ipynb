{
 "cells": [
  {
   "cell_type": "code",
   "execution_count": 18,
   "metadata": {},
   "outputs": [],
   "source": [
    "import cv2\n",
    "import os\n",
    "import glob"
   ]
  },
  {
   "attachments": {},
   "cell_type": "markdown",
   "metadata": {},
   "source": [
    "# List candidate videos"
   ]
  },
  {
   "cell_type": "code",
   "execution_count": 8,
   "metadata": {},
   "outputs": [],
   "source": [
    "videos = glob.glob(r'C:\\Users\\michael.mitter\\Documents\\Programming\\thepigeoniator\\train_model\\raw_data\\recordings\\to_split\\*.avi')"
   ]
  },
  {
   "cell_type": "code",
   "execution_count": 9,
   "metadata": {},
   "outputs": [
    {
     "data": {
      "text/plain": [
       "['C:\\\\Users\\\\michael.mitter\\\\Documents\\\\Programming\\\\thepigeoniator\\\\train_model\\\\raw_data\\\\recordings\\\\to_split\\\\20230517_122338.avi',\n",
       " 'C:\\\\Users\\\\michael.mitter\\\\Documents\\\\Programming\\\\thepigeoniator\\\\train_model\\\\raw_data\\\\recordings\\\\to_split\\\\20230517_122436.avi',\n",
       " 'C:\\\\Users\\\\michael.mitter\\\\Documents\\\\Programming\\\\thepigeoniator\\\\train_model\\\\raw_data\\\\recordings\\\\to_split\\\\20230517_122446.avi',\n",
       " 'C:\\\\Users\\\\michael.mitter\\\\Documents\\\\Programming\\\\thepigeoniator\\\\train_model\\\\raw_data\\\\recordings\\\\to_split\\\\20230517_122529.avi',\n",
       " 'C:\\\\Users\\\\michael.mitter\\\\Documents\\\\Programming\\\\thepigeoniator\\\\train_model\\\\raw_data\\\\recordings\\\\to_split\\\\20230517_122619.avi',\n",
       " 'C:\\\\Users\\\\michael.mitter\\\\Documents\\\\Programming\\\\thepigeoniator\\\\train_model\\\\raw_data\\\\recordings\\\\to_split\\\\20230517_122629.avi',\n",
       " 'C:\\\\Users\\\\michael.mitter\\\\Documents\\\\Programming\\\\thepigeoniator\\\\train_model\\\\raw_data\\\\recordings\\\\to_split\\\\20230517_194418.avi']"
      ]
     },
     "execution_count": 9,
     "metadata": {},
     "output_type": "execute_result"
    }
   ],
   "source": [
    "videos"
   ]
  },
  {
   "attachments": {},
   "cell_type": "markdown",
   "metadata": {},
   "source": [
    "# Split all the videos!"
   ]
  },
  {
   "cell_type": "code",
   "execution_count": 31,
   "metadata": {},
   "outputs": [],
   "source": [
    "def split_video(path, output_dir, sample_rate=10):\n",
    "    cap = cv2.VideoCapture(path)\n",
    "    frame_count = int(cap.get(cv2.CAP_PROP_FRAME_COUNT))\n",
    "    print(frame_count)\n",
    "    sample_every = sample_rate\n",
    "    for i in range(frame_count):\n",
    "        ret, frame = cap.read()\n",
    "        # consruct filename. output_dir + video_name + frame_number (without video extension)\n",
    "        filename = os.path.join(output_dir, os.path.basename(path).split('.')[0] + f'_{i}.jpg')\n",
    "        if i % sample_every == 0:\n",
    "            cv2.imwrite(filename, frame)"
   ]
  },
  {
   "cell_type": "code",
   "execution_count": 32,
   "metadata": {},
   "outputs": [],
   "source": [
    "outputdir = r'C:\\Users\\michael.mitter\\Documents\\Programming\\thepigeoniator\\train_model\\raw_data\\recordings\\to_split\\split\\\\'"
   ]
  },
  {
   "cell_type": "code",
   "execution_count": 34,
   "metadata": {},
   "outputs": [
    {
     "name": "stdout",
     "output_type": "stream",
     "text": [
      "660\n",
      "102\n",
      "177\n",
      "632\n",
      "134\n",
      "437\n",
      "112\n"
     ]
    }
   ],
   "source": [
    "for vid in videos:\n",
    "    split_video(vid, output_dir=outputdir, sample_rate=20)"
   ]
  }
 ],
 "metadata": {
  "kernelspec": {
   "display_name": "pigeon-train",
   "language": "python",
   "name": "python3"
  },
  "language_info": {
   "codemirror_mode": {
    "name": "ipython",
    "version": 3
   },
   "file_extension": ".py",
   "mimetype": "text/x-python",
   "name": "python",
   "nbconvert_exporter": "python",
   "pygments_lexer": "ipython3",
   "version": "3.8.0"
  },
  "orig_nbformat": 4
 },
 "nbformat": 4,
 "nbformat_minor": 2
}
