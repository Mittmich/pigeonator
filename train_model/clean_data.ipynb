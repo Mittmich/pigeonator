{
 "cells": [
  {
   "attachments": {},
   "cell_type": "markdown",
   "metadata": {},
   "source": [
    "# Goal\n",
    "Concatenate data downloaded from roboflow for training"
   ]
  },
  {
   "cell_type": "code",
   "execution_count": 1,
   "metadata": {},
   "outputs": [],
   "source": [
    "import glob\n",
    "from pathlib import Path\n",
    "import shutil"
   ]
  },
  {
   "attachments": {},
   "cell_type": "markdown",
   "metadata": {},
   "source": [
    "# Crows\n",
    "Crows are class 0, no rewrite of labels are needed"
   ]
  },
  {
   "cell_type": "code",
   "execution_count": 16,
   "metadata": {},
   "outputs": [],
   "source": [
    "crow_path = r\"raw_data\\crows\\\\\""
   ]
  },
  {
   "cell_type": "code",
   "execution_count": 23,
   "metadata": {},
   "outputs": [],
   "source": [
    "test_images = glob.glob(crow_path + r\"*\\test\\images\\*.jpg\")\n",
    "test_labels = glob.glob(crow_path + r\"*\\test\\labels\\*.txt\")\n",
    "train_images = glob.glob(crow_path + r\"*\\train\\images\\*.jpg\")\n",
    "train_labels = glob.glob(crow_path + r\"*\\train\\labels\\*.txt\")\n",
    "validation_images = glob.glob(crow_path + r\"*\\valid\\images\\*.jpg\")\n",
    "validation_labels = glob.glob(crow_path + r\"*\\valid\\labels\\*.txt\")"
   ]
  },
  {
   "cell_type": "code",
   "execution_count": 28,
   "metadata": {},
   "outputs": [
    {
     "data": {
      "text/plain": [
       "WindowsPath('data/test/0PZMLWULUJES_jpg.rf.b3da88b5560cced295fb6270401678ee.jpg')"
      ]
     },
     "execution_count": 28,
     "metadata": {},
     "output_type": "execute_result"
    }
   ],
   "source": [
    "Path(\"data\\\\test\") / Path(test_images[0]).name"
   ]
  },
  {
   "attachments": {},
   "cell_type": "markdown",
   "metadata": {},
   "source": [
    "Copy to output"
   ]
  },
  {
   "cell_type": "code",
   "execution_count": 32,
   "metadata": {},
   "outputs": [],
   "source": [
    "for im, label in zip(test_images, test_labels):\n",
    "    file_name_image = Path(im).name\n",
    "    file_name_label = Path(label).name\n",
    "    target_image = Path(\"data\\\\test\\\\images\") / file_name_image\n",
    "    target_label = Path(\"data\\\\test\\\\labels\") / file_name_label\n",
    "    shutil.copy(im, target_image)\n",
    "    shutil.copy(label, target_label)"
   ]
  },
  {
   "cell_type": "code",
   "execution_count": 33,
   "metadata": {},
   "outputs": [],
   "source": [
    "for im, label in zip(train_images, train_labels):\n",
    "    file_name_image = Path(im).name\n",
    "    file_name_label = Path(label).name\n",
    "    target_image = Path(\"data\\\\train\\\\images\") / file_name_image\n",
    "    target_label = Path(\"data\\\\train\\\\labels\") / file_name_label\n",
    "    shutil.copy(im, target_image)\n",
    "    shutil.copy(label, target_label)"
   ]
  },
  {
   "cell_type": "code",
   "execution_count": 34,
   "metadata": {},
   "outputs": [],
   "source": [
    "for im, label in zip(validation_images, validation_labels):\n",
    "    file_name_image = Path(im).name\n",
    "    file_name_label = Path(label).name\n",
    "    target_image = Path(\"data\\\\valid\\\\images\") / file_name_image\n",
    "    target_label = Path(\"data\\\\valid\\\\labels\") / file_name_label\n",
    "    shutil.copy(im, target_image)\n",
    "    shutil.copy(label, target_label)"
   ]
  },
  {
   "attachments": {},
   "cell_type": "markdown",
   "metadata": {},
   "source": [
    "# Pigeons\n",
    "Pigeons are label 1, rewrite of label file needed"
   ]
  },
  {
   "cell_type": "code",
   "execution_count": 48,
   "metadata": {},
   "outputs": [],
   "source": [
    "def rewrite_label_file(file, output_dir=\"temp\", new_class=0):\n",
    "    if not Path(output_dir).exists():\n",
    "       Path(output_dir).mkdir()\n",
    "    temp_path = Path(output_dir) / Path(file).name\n",
    "    with open(file, \"r\") as f:\n",
    "        lines = f.readlines()\n",
    "    with open(temp_path, \"w\") as f:\n",
    "        for line in lines:\n",
    "            segments = line.split(\" \")\n",
    "            segments[0] = str(new_class)\n",
    "            f.write(\" \".join(segments))\n",
    "    return temp_path"
   ]
  },
  {
   "cell_type": "code",
   "execution_count": 39,
   "metadata": {},
   "outputs": [],
   "source": [
    "pigeon_path = r\"raw_data\\pigeons\\\\\""
   ]
  },
  {
   "cell_type": "code",
   "execution_count": 44,
   "metadata": {},
   "outputs": [],
   "source": [
    "test_images = glob.glob(pigeon_path + r\"*\\test\\images\\*.jpg\")\n",
    "test_labels = glob.glob(pigeon_path + r\"*\\test\\labels\\*.txt\")\n",
    "train_images = glob.glob(pigeon_path + r\"*\\train\\images\\*.jpg\")\n",
    "train_labels = glob.glob(pigeon_path + r\"*\\train\\labels\\*.txt\")\n",
    "validation_images = glob.glob(pigeon_path + r\"*\\valid\\images\\*.jpg\")\n",
    "validation_labels = glob.glob(pigeon_path + r\"*\\valid\\labels\\*.txt\")"
   ]
  },
  {
   "cell_type": "code",
   "execution_count": 49,
   "metadata": {},
   "outputs": [],
   "source": [
    "for im, label in zip(test_images, test_labels):\n",
    "    file_name_image = Path(im).name\n",
    "    file_name_label = Path(label).name\n",
    "    # rewrite label file\n",
    "    new_label = rewrite_label_file(label, output_dir=\"temp\", new_class=1)\n",
    "    target_image = Path(\"data\\\\test\\\\images\") / file_name_image\n",
    "    target_label = Path(\"data\\\\test\\\\labels\") / file_name_label\n",
    "    shutil.copy(im, target_image)\n",
    "    shutil.copy(new_label, target_label)"
   ]
  },
  {
   "cell_type": "code",
   "execution_count": 50,
   "metadata": {},
   "outputs": [],
   "source": [
    "for im, label in zip(train_images, train_labels):\n",
    "    file_name_image = Path(im).name\n",
    "    file_name_label = Path(label).name\n",
    "    # rewrite label file\n",
    "    new_label = rewrite_label_file(label, output_dir=\"temp\", new_class=1)\n",
    "    target_image = Path(\"data\\\\train\\\\images\") / file_name_image\n",
    "    target_label = Path(\"data\\\\train\\\\labels\") / file_name_label\n",
    "    shutil.copy(im, target_image)\n",
    "    shutil.copy(new_label, target_label)"
   ]
  },
  {
   "cell_type": "code",
   "execution_count": 51,
   "metadata": {},
   "outputs": [],
   "source": [
    "for im, label in zip(validation_images, validation_labels):\n",
    "    file_name_image = Path(im).name\n",
    "    file_name_label = Path(label).name\n",
    "    # rewrite label file\n",
    "    new_label = rewrite_label_file(label, output_dir=\"temp\", new_class=1)\n",
    "    target_image = Path(\"data\\\\valid\\\\images\") / file_name_image\n",
    "    target_label = Path(\"data\\\\valid\\\\labels\") / file_name_label\n",
    "    shutil.copy(im, target_image)\n",
    "    shutil.copy(new_label, target_label)"
   ]
  },
  {
   "attachments": {},
   "cell_type": "markdown",
   "metadata": {},
   "source": [
    "# Other birds\n",
    "Here, we need to split the files as the have different class mappings.\n",
    "\n",
    "Blue tit is class 2\n",
    "sparrow is class 3"
   ]
  },
  {
   "attachments": {},
   "cell_type": "markdown",
   "metadata": {},
   "source": [
    "One class source files"
   ]
  },
  {
   "cell_type": "code",
   "execution_count": 55,
   "metadata": {},
   "outputs": [],
   "source": [
    "bluet_path = r\"raw_data\\other_birds\\les-oiseaux1.v3i.yolov5pytorch\""
   ]
  },
  {
   "cell_type": "code",
   "execution_count": 60,
   "metadata": {},
   "outputs": [],
   "source": [
    "test_images = glob.glob(bluet_path + r\"\\test\\images\\*.jpg\")\n",
    "test_labels = glob.glob(bluet_path + r\"\\test\\labels\\*.txt\")\n",
    "train_images = glob.glob(bluet_path + r\"\\train\\images\\*.jpg\")\n",
    "train_labels = glob.glob(bluet_path + r\"\\train\\labels\\*.txt\")\n",
    "validation_images = glob.glob(bluet_path + r\"\\valid\\images\\*.jpg\")\n",
    "validation_labels = glob.glob(bluet_path + r\"\\valid\\labels\\*.txt\")"
   ]
  },
  {
   "cell_type": "code",
   "execution_count": 61,
   "metadata": {},
   "outputs": [],
   "source": [
    "for im, label in zip(test_images, test_labels):\n",
    "    file_name_image = Path(im).name\n",
    "    file_name_label = Path(label).name\n",
    "    # rewrite label file\n",
    "    new_label = rewrite_label_file(label, output_dir=\"temp\", new_class=2)\n",
    "    target_image = Path(\"data\\\\test\\\\images\") / file_name_image\n",
    "    target_label = Path(\"data\\\\test\\\\labels\") / file_name_label\n",
    "    shutil.copy(im, target_image)\n",
    "    shutil.copy(new_label, target_label)"
   ]
  },
  {
   "cell_type": "code",
   "execution_count": 62,
   "metadata": {},
   "outputs": [],
   "source": [
    "for im, label in zip(train_images, train_labels):\n",
    "    file_name_image = Path(im).name\n",
    "    file_name_label = Path(label).name\n",
    "    # rewrite label file\n",
    "    new_label = rewrite_label_file(label, output_dir=\"temp\", new_class=2)\n",
    "    target_image = Path(\"data\\\\train\\\\images\") / file_name_image\n",
    "    target_label = Path(\"data\\\\train\\\\labels\") / file_name_label\n",
    "    shutil.copy(im, target_image)\n",
    "    shutil.copy(new_label, target_label)"
   ]
  },
  {
   "cell_type": "code",
   "execution_count": 63,
   "metadata": {},
   "outputs": [],
   "source": [
    "for im, label in zip(validation_images, validation_labels):\n",
    "    file_name_image = Path(im).name\n",
    "    file_name_label = Path(label).name\n",
    "    # rewrite label file\n",
    "    new_label = rewrite_label_file(label, output_dir=\"temp\", new_class=2)\n",
    "    target_image = Path(\"data\\\\valid\\\\images\") / file_name_image\n",
    "    target_label = Path(\"data\\\\valid\\\\labels\") / file_name_label\n",
    "    shutil.copy(im, target_image)\n",
    "    shutil.copy(new_label, target_label)"
   ]
  },
  {
   "attachments": {},
   "cell_type": "markdown",
   "metadata": {},
   "source": [
    "Two class source files"
   ]
  },
  {
   "cell_type": "code",
   "execution_count": 72,
   "metadata": {},
   "outputs": [],
   "source": [
    "def rewrite_label_file_2(file, output_dir=\"temp\", class_mapping={0:3, 1:2}):\n",
    "    if not Path(output_dir).exists():\n",
    "       Path(output_dir).mkdir()\n",
    "    temp_path = Path(output_dir) / Path(file).name\n",
    "    with open(file, \"r\") as f:\n",
    "        lines = f.readlines()\n",
    "    with open(temp_path, \"w\") as f:\n",
    "        for line in lines:\n",
    "            segments = line.split(\" \")\n",
    "            segments[0] = str(class_mapping[int(segments[0])])\n",
    "            f.write(\" \".join(segments))\n",
    "    return temp_path"
   ]
  },
  {
   "cell_type": "code",
   "execution_count": 73,
   "metadata": {},
   "outputs": [],
   "source": [
    "bird_path = r\"raw_data\\other_birds\\birds.v3i.yolov5pytorch\""
   ]
  },
  {
   "cell_type": "code",
   "execution_count": 74,
   "metadata": {},
   "outputs": [],
   "source": [
    "test_images = glob.glob(bird_path + r\"\\test\\images\\*.jpg\")\n",
    "test_labels = glob.glob(bird_path + r\"\\test\\labels\\*.txt\")\n",
    "train_images = glob.glob(bird_path + r\"\\train\\images\\*.jpg\")\n",
    "train_labels = glob.glob(bird_path + r\"\\train\\labels\\*.txt\")\n",
    "validation_images = glob.glob(bird_path + r\"\\valid\\images\\*.jpg\")\n",
    "validation_labels = glob.glob(bird_path + r\"\\valid\\labels\\*.txt\")"
   ]
  },
  {
   "cell_type": "code",
   "execution_count": null,
   "metadata": {},
   "outputs": [],
   "source": [
    "for im, label in zip(test_images, test_labels):\n",
    "    file_name_image = Path(im).name\n",
    "    file_name_label = Path(label).name\n",
    "    # rewrite label file\n",
    "    new_label = rewrite_label_file_2(label, output_dir=\"temp\")\n",
    "    target_image = Path(\"data\\\\test\\\\images\") / file_name_image\n",
    "    target_label = Path(\"data\\\\test\\\\labels\") / file_name_label\n",
    "    shutil.copy(im, target_image)\n",
    "    shutil.copy(new_label, target_label)"
   ]
  },
  {
   "cell_type": "code",
   "execution_count": null,
   "metadata": {},
   "outputs": [],
   "source": [
    "for im, label in zip(train_images, train_labels):\n",
    "    file_name_image = Path(im).name\n",
    "    file_name_label = Path(label).name\n",
    "    # rewrite label file\n",
    "    new_label = rewrite_label_file_2(label, output_dir=\"temp\")\n",
    "    target_image = Path(\"data\\\\train\\\\images\") / file_name_image\n",
    "    target_label = Path(\"data\\\\train\\\\labels\") / file_name_label\n",
    "    shutil.copy(im, target_image)\n",
    "    shutil.copy(new_label, target_label)"
   ]
  },
  {
   "cell_type": "code",
   "execution_count": null,
   "metadata": {},
   "outputs": [],
   "source": [
    "for im, label in zip(validation_images, validation_labels):\n",
    "    file_name_image = Path(im).name\n",
    "    file_name_label = Path(label).name\n",
    "    # rewrite label file\n",
    "    new_label = rewrite_label_file_2(label, output_dir=\"temp\")\n",
    "    target_image = Path(\"data\\\\valid\\\\images\") / file_name_image\n",
    "    target_label = Path(\"data\\\\valid\\\\labels\") / file_name_label\n",
    "    shutil.copy(im, target_image)\n",
    "    shutil.copy(new_label, target_label)"
   ]
  },
  {
   "attachments": {},
   "cell_type": "markdown",
   "metadata": {},
   "source": [
    "# Custom dataset"
   ]
  },
  {
   "cell_type": "code",
   "execution_count": 2,
   "metadata": {},
   "outputs": [],
   "source": [
    "custom_path = r\"C:\\Users\\michael.mitter\\Documents\\Programming\\thepigeoniator\\train_model\\raw_data\\Pigeonator.v1i.yolov5pytorch\""
   ]
  },
  {
   "cell_type": "code",
   "execution_count": 4,
   "metadata": {},
   "outputs": [],
   "source": [
    "test_images = glob.glob(custom_path + r\"*\\test\\images\\*.jpg\")\n",
    "test_labels = glob.glob(custom_path + r\"*\\test\\labels\\*.txt\")\n",
    "train_images = glob.glob(custom_path + r\"*\\train\\images\\*.jpg\")\n",
    "train_labels = glob.glob(custom_path + r\"*\\train\\labels\\*.txt\")\n",
    "validation_images = glob.glob(custom_path + r\"*\\valid\\images\\*.jpg\")\n",
    "validation_labels = glob.glob(custom_path + r\"*\\valid\\labels\\*.txt\")"
   ]
  },
  {
   "cell_type": "code",
   "execution_count": null,
   "metadata": {},
   "outputs": [],
   "source": [
    "for im, label in zip(test_images, test_labels):\n",
    "    file_name_image = Path(im).name\n",
    "    file_name_label = Path(label).name\n",
    "    target_image = Path(\"data\\\\test\\\\images\") / file_name_image\n",
    "    target_label = Path(\"data\\\\test\\\\labels\") / file_name_label\n",
    "    shutil.copy(im, target_image)\n",
    "    shutil.copy(label, target_label)"
   ]
  },
  {
   "cell_type": "code",
   "execution_count": null,
   "metadata": {},
   "outputs": [],
   "source": [
    "for im, label in zip(train_images, train_labels):\n",
    "    file_name_image = Path(im).name\n",
    "    file_name_label = Path(label).name\n",
    "    target_image = Path(\"data\\\\train\\\\images\") / file_name_image\n",
    "    target_label = Path(\"data\\\\train\\\\labels\") / file_name_label\n",
    "    shutil.copy(im, target_image)\n",
    "    shutil.copy(label, target_label)"
   ]
  },
  {
   "cell_type": "code",
   "execution_count": null,
   "metadata": {},
   "outputs": [],
   "source": [
    "for im, label in zip(validation_images, validation_labels):\n",
    "    file_name_image = Path(im).name\n",
    "    file_name_label = Path(label).name\n",
    "    target_image = Path(\"data\\\\valid\\\\images\") / file_name_image\n",
    "    target_label = Path(\"data\\\\valid\\\\labels\") / file_name_label\n",
    "    shutil.copy(im, target_image)\n",
    "    shutil.copy(label, target_label)"
   ]
  }
 ],
 "metadata": {
  "kernelspec": {
   "display_name": "pigeon",
   "language": "python",
   "name": "python3"
  },
  "language_info": {
   "codemirror_mode": {
    "name": "ipython",
    "version": 3
   },
   "file_extension": ".py",
   "mimetype": "text/x-python",
   "name": "python",
   "nbconvert_exporter": "python",
   "pygments_lexer": "ipython3",
   "version": "3.10.0"
  },
  "orig_nbformat": 4
 },
 "nbformat": 4,
 "nbformat_minor": 2
}
